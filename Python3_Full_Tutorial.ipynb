{
 "cells": [
  {
   "cell_type": "markdown",
   "metadata": {},
   "source": [
    "# Basic"
   ]
  },
  {
   "cell_type": "markdown",
   "metadata": {},
   "source": [
    "## Data Type"
   ]
  },
  {
   "cell_type": "code",
   "execution_count": 38,
   "metadata": {},
   "outputs": [
    {
     "name": "stdout",
     "output_type": "stream",
     "text": [
      "Soso <class 'str'>\n",
      "33 <class 'int'>\n",
      "Your name is: Soso  and age is: 33\n",
      "a= <class 'int'> b= <class 'float'> c= <class 'str'> d= <class 'bool'>\n"
     ]
    }
   ],
   "source": [
    "name = \"Soso\" #Class str ((Automatically))\n",
    "print(name,type(name))\n",
    "age = 33 #Class int\n",
    "print(age,type(age)) \n",
    "#addvar = age + name #>> return Error!!\n",
    "#print(addvar)\n",
    "print(\"Your name is:\",name,\" and age is:\",age)\n",
    "\n",
    "#multipule value creation:\n",
    "a, b, c, d = 33, 10.5, \"Python\", True\n",
    "print(\"a=\",type(a),\"b=\",type(b),\"c=\",type(c),\"d=\",type(d))\n",
    "\n",
    "#a,b=12\n",
    "#print(a,b) #>> return Error"
   ]
  },
  {
   "cell_type": "markdown",
   "metadata": {},
   "source": [
    "## Get Input From User"
   ]
  },
  {
   "cell_type": "code",
   "execution_count": 16,
   "metadata": {},
   "outputs": [
    {
     "name": "stdout",
     "output_type": "stream",
     "text": [
      "Enter Your Age: 33\n",
      "Your Age is: 33 Type is: <class 'int'>\n",
      "49.5\n",
      "Enter The Price: 1.2\n",
      "1.2 <class 'float'>\n"
     ]
    }
   ],
   "source": [
    "#in_age = input(\"Enter Your Age: \")\n",
    "#print(\"Your Age is:\",in_age,\"Type is:\",type(in_age)) #>> Input value Type is String!\n",
    "\n",
    "#>> If the Entered value is INT then cast it:\n",
    "int_age = int(input(\"Enter Your Age: \"))\n",
    "print(\"Your Age is:\",int_age,\"Type is:\",type(int_age)) #Input value Type is String!\n",
    "a = int_age * 1.5\n",
    "print(a)\n",
    "\n",
    "price = float(input(\"Enter The Price: \"))\n",
    "print(price,type(price))"
   ]
  },
  {
   "cell_type": "markdown",
   "metadata": {},
   "source": [
    "## Naming Variables"
   ]
  },
  {
   "cell_type": "code",
   "execution_count": 19,
   "metadata": {},
   "outputs": [
    {
     "ename": "SyntaxError",
     "evalue": "can't assign to operator (<ipython-input-19-e0afcf41095a>, line 6)",
     "output_type": "error",
     "traceback": [
      "\u001b[1;36m  File \u001b[1;32m\"<ipython-input-19-e0afcf41095a>\"\u001b[1;36m, line \u001b[1;32m6\u001b[0m\n\u001b[1;33m    abc-xz = 10\u001b[0m\n\u001b[1;37m               ^\u001b[0m\n\u001b[1;31mSyntaxError\u001b[0m\u001b[1;31m:\u001b[0m can't assign to operator\n"
     ]
    }
   ],
   "source": [
    "age = 22\n",
    "AGE = 23  \n",
    "print(age,AGE,type(age),type(AGE),id(age),id(AGE)) #different variables, id used to know the address of variable\n",
    "\n",
    "#>> No Special Characters\n",
    "#abc-xz = 10\n",
    "\n",
    "#>> No start with numbers\n",
    "#2name = \"soso\"\n",
    "\n"
   ]
  },
  {
   "cell_type": "markdown",
   "metadata": {},
   "source": [
    "## OPerators"
   ]
  },
  {
   "cell_type": "code",
   "execution_count": 27,
   "metadata": {},
   "outputs": [
    {
     "name": "stdout",
     "output_type": "stream",
     "text": [
      "2 <class 'int'>\n",
      "-2 <class 'int'>\n",
      "False\n",
      "46.0 <class 'float'>\n"
     ]
    }
   ],
   "source": [
    "a,b = 10,4\n",
    "c=a//b #return the int part only before the decimal 10/4=2.5 ==> return 2  only\n",
    "print(c,type(c))\n",
    "\n",
    "a,b = 10 ,-4\n",
    "c= a%b\n",
    "print(c,type(c))\n",
    "\n",
    "a,b = 10 ,4\n",
    "print(a == b)\n",
    "\n",
    "a,b = 10 ,4\n",
    "c = a**2/a + b * a - b \n",
    "print(c,type(c)) #>>Precedences: Brackets | parentheses, Of | (Exponents), Div, multi, add, subtraction"
   ]
  },
  {
   "cell_type": "markdown",
   "metadata": {},
   "source": [
    "## Modulusof Negative Numbers"
   ]
  },
  {
   "cell_type": "code",
   "execution_count": 31,
   "metadata": {},
   "outputs": [
    {
     "name": "stdout",
     "output_type": "stream",
     "text": [
      "-4\n",
      "1\n",
      "2\n"
     ]
    }
   ],
   "source": [
    "#remainder = a - floor(a/b) * b\n",
    "import math\n",
    "print(math.floor(-10/3))\n",
    "\n",
    "a,b = 10,3\n",
    "c = a%b\n",
    "print(c)  # c= 10 - floor(10/3) * 3 = 10 - 3 * 3 = 1\n",
    "\n",
    "a,b = -10,3\n",
    "c = a%b\n",
    "print(c)  # c= -10 - floor(-10/3) * 3 = -10 - (-4) * 3 = 2"
   ]
  },
  {
   "cell_type": "markdown",
   "metadata": {},
   "source": [
    "## Mutable and immutable Objects"
   ]
  },
  {
   "cell_type": "code",
   "execution_count": 36,
   "metadata": {},
   "outputs": [
    {
     "name": "stdout",
     "output_type": "stream",
     "text": [
      "10 <class 'int'> 1942774208\n",
      "This is Python <class 'str'> 1829215091696\n",
      "10 <class 'int'> 1942774208\n",
      "id of 10= 1942774208\n",
      "--------------------------------------\n",
      "[12, 3, 333, 465] <class 'list'> 1829215090696\n",
      "[12, 111, 333, 465, 'last'] <class 'list'> 1829215090696\n"
     ]
    }
   ],
   "source": [
    "#>> Mutable can be changed after creation: list, set, dict\n",
    "#>> Immutable can not be change after creation: int, float, str\n",
    "a = 10\n",
    "print(a,type(a), id(a))\n",
    "a= \"This is Python\"  #>> this will creat new memory location with new value\n",
    "print(a,type(a),id(a))\n",
    "b = 10\n",
    "print(b,type(b), id(b)) #this will point to old location of a while it is the same value.\n",
    "print(\"id of 10=\",id(10)) #to make sure that it is same location based on value\n",
    "print(\"--------------------------------------\")\n",
    "## List as Mutable\n",
    "lst = [12,3,333,465]\n",
    "print(lst,type(lst),id(lst))\n",
    "lst[1] = 111\n",
    "lst.append(\"last\")\n",
    "print(lst,type(lst),id(lst))"
   ]
  },
  {
   "cell_type": "code",
   "execution_count": 39,
   "metadata": {},
   "outputs": [
    {
     "name": "stdout",
     "output_type": "stream",
     "text": [
      "-10.1\n"
     ]
    }
   ],
   "source": [
    "a,b = -10.10, -10.101\n",
    "\n",
    "c  = a%b\n",
    "\n",
    "print(c)"
   ]
  },
  {
   "cell_type": "markdown",
   "metadata": {},
   "source": [
    "## Conditional Statement"
   ]
  },
  {
   "cell_type": "code",
   "execution_count": 12,
   "metadata": {},
   "outputs": [
    {
     "name": "stdout",
     "output_type": "stream",
     "text": [
      "Enter a Number: 5\n",
      "Positive\n",
      "Soso here\n",
      "Young\n",
      "Young\n",
      "Not RGB\n"
     ]
    }
   ],
   "source": [
    "a = int(input(\"Enter a Number: \"))\n",
    "if a == 0:\n",
    "  print(\"Yes Zero\")\n",
    "elif a < 0:\n",
    "    print(\"Negative\")\n",
    "else:\n",
    "    print(\"Positive\")\n",
    "\n",
    "## Membership Operator\n",
    "stm = \"Hello Soso Welcome\"\n",
    "if \"Soso\" not in stm:\n",
    "    print(\"Soso not Here\")\n",
    "else:\n",
    "    print(\"Soso here\")\n",
    "\n",
    "## Logical Operators:\n",
    "if a>=18 and a<100:\n",
    "    print(\"Adult\")\n",
    "else:\n",
    "    print(\"Young\")\n",
    "\n",
    "if 100>a>=18:\n",
    "    print(\"Adult\")\n",
    "else:\n",
    "    print(\"Young\")\n",
    "    \n",
    "color=\"Yellow\"\n",
    "if color==\"Red\" or color==\"Green\" or color==\"blue\":\n",
    "    print(\"RGB\")\n",
    "elif not(color==\"Red\" or color==\"Green\" or color==\"blue\"):\n",
    "    print(\"Not RGB\")"
   ]
  },
  {
   "cell_type": "markdown",
   "metadata": {},
   "source": [
    "## String Manipulation"
   ]
  },
  {
   "cell_type": "code",
   "execution_count": 45,
   "metadata": {},
   "outputs": [
    {
     "name": "stdout",
     "output_type": "stream",
     "text": [
      "Python Programming \"Here\" <class 'str'>\n",
      "Python Programming \"Here\" Python Programming Here Python Programming \"Here\" Python \t Programming. \n",
      " Hello Here c:\\soso\\tool\\new \n",
      "Hi\n",
      "welcome what is \n",
      "    your life doing\n",
      "    nice   bye\n",
      "\n",
      "T\n",
      "e\n",
      "r\n",
      "Thi\n",
      " course\n",
      ",,,,,,,\n",
      ",2,3,4,5,6,7,8,9\n",
      "1,2,3\n",
      "1,2,3,4,5,6,7,8,9\n",
      "123456789\n",
      "\n",
      "9,8,7,6,5\n",
      "987654321\n",
      "True\n",
      "97\n",
      "@\n"
     ]
    }
   ],
   "source": [
    "stm1 = 'Python Programming \"Here\"' \n",
    "stm2 = \"Python Programming Here\"\n",
    "stm3 = \"Python Programming \\\"Here\\\"\"\n",
    "stm4 = \"Python \\t Programming. \\n Hello Here\"\n",
    "stm5 = r\"c:\\soso\\tool\\new\"\n",
    "stm6=\"\"\"\n",
    "Hi\n",
    "welcome what is \n",
    "    your life doing\n",
    "    nice   bye\n",
    "\"\"\"\n",
    "print(stm1,type(stm1))\n",
    "print(stm1,stm2,stm3,stm4,stm5,stm6)\n",
    "print(\"Python\"*10) #print string 10 times\n",
    "\n",
    "## Indexing:\n",
    "stm = \"This is my course\"\n",
    "print(stm[0]) #return exception if number out of range\n",
    "print(stm[len(stm)-1])\n",
    "print(stm[-3]) \n",
    "\n",
    "## Slicing\n",
    "stm = \"This is my course\"\n",
    "print(stm[0:3]) #exclude the 3th char \n",
    "print(stm[10:100]) #no exception \n",
    "stm=\"1,2,3,4,5,6,7,8,9\"\n",
    "print(stm[1:15:2]) #Setp=2 jump 2 char\n",
    "print(stm[1:])\n",
    "print(stm[:5])\n",
    "print(stm[:])\n",
    "print(stm[::2]) #>>123456789\n",
    "print(stm[-1:-10]) #No Output\n",
    "print(stm[-1:-10:-1]) #Step from right side >>> 9,8,7,6,5\n",
    "print(stm[-1::-2]) #start from end with 2 step from right to left  <<< 987654321\n",
    "\n",
    "## Comapre\n",
    "stm1 = \"Py\"\n",
    "stm2 = \"Java\"\n",
    "print(stm1 > stm2)  #True >>> comapre ascii value of first char \n",
    "print(ord('a')) # ascii value of char\n",
    "print(chr(64)) # return the char from ascii\n",
    "\n",
    "stm = \"1,2,3,4,5,6,7,8,9\"\n",
    "stm[2] = 22\n",
    "print(stm[::2]) #Return Error can't change String variable immutable"
   ]
  },
  {
   "cell_type": "markdown",
   "metadata": {},
   "source": [
    "## List"
   ]
  },
  {
   "cell_type": "code",
   "execution_count": 67,
   "metadata": {},
   "outputs": [
    {
     "name": "stdout",
     "output_type": "stream",
     "text": [
      "[1, 2, 3, 'soso', 'momo'] <class 'list'>\n",
      "[400, 3]\n",
      "6\n",
      "[[1, 3, 5, 7, 9], [2, 4, 6, 8]]\n",
      "3\n",
      "(12, 34, 55, 8) <class 'tuple'>\n",
      "34\n",
      "['__add__', '__class__', '__contains__', '__delattr__', '__dir__', '__doc__', '__eq__', '__format__', '__ge__', '__getattribute__', '__getitem__', '__getnewargs__', '__gt__', '__hash__', '__init__', '__init_subclass__', '__iter__', '__le__', '__len__', '__lt__', '__mul__', '__ne__', '__new__', '__reduce__', '__reduce_ex__', '__repr__', '__rmul__', '__setattr__', '__sizeof__', '__str__', '__subclasshook__', 'count', 'index']\n",
      "(12,) <class 'tuple'>\n"
     ]
    }
   ],
   "source": [
    "## List mutable\n",
    "lst1 = list([12,3,4,8])\n",
    "lst = [1,2,3,\"soso\",\"momo\"]\n",
    "print(lst,type(lst))\n",
    "#print(lst[10]) #return Error out of range\n",
    "lst[1] = 400\n",
    "print(lst[1:3])\n",
    "lst.append(33)\n",
    "print(len(lst))\n",
    "odd = [1,3,5,7,9]\n",
    "even = [2,4,6,8]\n",
    "numbers = [odd,even]\n",
    "print(numbers)\n",
    "print(numbers[0][1])\n",
    "\n",
    "## Tuple (immutable)\n",
    "t = 12,34,55,8 # OR t = (12,34,55,8)\n",
    "print(t,type(t))\n",
    "print(t[1])\n",
    "print(dir(t)) #print all functions supported by tuple\n",
    "t= (12,)\n",
    "print(t,type(t))"
   ]
  },
  {
   "cell_type": "markdown",
   "metadata": {},
   "source": [
    "## Loops"
   ]
  },
  {
   "cell_type": "code",
   "execution_count": 102,
   "metadata": {},
   "outputs": [
    {
     "name": "stdout",
     "output_type": "stream",
     "text": [
      "i= 1\n",
      "i= 2\n",
      "i= 3\n",
      "i= 4\n",
      "i= 5\n",
      "i= 6\n",
      "i= 7\n",
      "i= 8\n",
      "i= 9\n",
      "1 2 3 4 **********\n",
      "1 2 3 4 6 7 8 9 P y t h o n 1 2 3 4 5 6 ------------\n",
      "1 2 3 4 5 6 7 8 9 Loop done\n",
      "0 1 2 3 4 5 6 7 8 9 Assign Other task,loop done\n",
      "10 15 10 9 8 7 6 5 4 3 2 1 12\n",
      "34\n",
      "123\n",
      "34\n",
      "Third\n",
      "Second\n",
      "First\n",
      "Third\n",
      "Second\n",
      "First\n",
      "First\n",
      "0\n",
      "Second\n",
      "1\n",
      "Third\n",
      "2\n",
      "No: 10 course First\n",
      "No: 20 course Second\n",
      "No: 30 course Third\n"
     ]
    }
   ],
   "source": [
    "i = 1\n",
    "while i<10:\n",
    "    print(\"i=\",i)\n",
    "    i=i+1\n",
    "\n",
    "\n",
    "while i<10:\n",
    "    pass #means do nothing, you should add something here in future\n",
    "    print(\"passed....\")\n",
    "\n",
    "i= 1\n",
    "while i<10:\n",
    "    if i%5==0:\n",
    "        break  #break the loop\n",
    "    print(i,end=\" \")\n",
    "    i = i + 1\n",
    "print(\"*\"*10)\n",
    "i= 0\n",
    "while i<10:\n",
    "    i = i + 1\n",
    "    if i%5==0:\n",
    "        continue  #skip this no 5\n",
    "    print(i,end=\" \")\n",
    "\n",
    "## For\n",
    "lst = [1,2,3,4,5,6]\n",
    "for i in \"Python\":\n",
    "    print(i,end=\" \")\n",
    "for i in lst:   \n",
    "    print(i,end=\" \")\n",
    "    \n",
    "## Else Block\n",
    "print(\"------------\")\n",
    "i=1\n",
    "while i<10:\n",
    "    print(i,end=\" \")\n",
    "    #if i%11 == 0:\n",
    "    #    break\n",
    "    i = i + 1\n",
    "else:\n",
    "    print(\"Loop done\")\n",
    "\n",
    "\n",
    "for i in range(10):\n",
    "    print(i,end=\" \")\n",
    "    #if i%5==0:\n",
    "    #    break\n",
    "else:\n",
    "    print(\"Assign Other task,loop done\")\n",
    "\n",
    "## Range\n",
    "for i in range(10,20,5):  #20 not included, 5 step\n",
    "    print(i,end=\" \")\n",
    "for i in range(10,0,-1):  #20 not included, 5 step\n",
    "    print(i,end=\" \")  \n",
    "lst =[12,34,123,34]\n",
    "for i in range(len(lst)):\n",
    "    print(lst[i])\n",
    "    \n",
    "## Looping Techniques\n",
    "lst = [\"First\",\"Second\",\"Third\"]\n",
    "lst1=[10,20,30,40]\n",
    "for c in reversed(lst):\n",
    "    print(c)\n",
    "for c in sorted(lst, reverse=True):\n",
    "    print(c)  \n",
    "for index,c in enumerate(lst):\n",
    "    print(c)   #return elements with index value\n",
    "    print(index)\n",
    "for d,c in zip(lst1,lst): #get similar number of elements more or less lists\n",
    "    print(\"No:\",d,\"course\",c)"
   ]
  },
  {
   "cell_type": "markdown",
   "metadata": {},
   "source": [
    "## Functions"
   ]
  },
  {
   "cell_type": "code",
   "execution_count": 7,
   "metadata": {},
   "outputs": [
    {
     "name": "stdout",
     "output_type": "stream",
     "text": [
      "40\n",
      "2.5 1422792365640\n",
      "2.5 1422792365640\n",
      "Help on function mul in module __main__:\n",
      "\n",
      "mul(a, b)\n",
      "    This function return multiple 2 numbers a and b.\n",
      "    :param a: first number\n",
      "    :param b: second number\n",
      "    :return: c = a * b\n",
      "\n",
      "\n",
      "    This function return multiple 2 numbers a and b.\n",
      "    :param a: first number\n",
      "    :param b: second number\n",
      "    :return: c = a * b\n",
      "    \n",
      "Name soso Salary 300\n",
      "Name soso Salary 5000\n",
      "Name soso Salary 0\n",
      "(20, 30, 34) <class 'tuple'>\n",
      "84\n",
      "(22, 33) <class 'tuple'>\n",
      "55\n",
      "26\n",
      "[66, 77, 88, 99]\n",
      "Name: Soso Emp Employee id:123\n"
     ]
    }
   ],
   "source": [
    "def add(a,b):\n",
    "    return a+b\n",
    "print(add(10,30))\n",
    "\n",
    "ROI = 11.5  #Global symbol table\n",
    "def calcme():\n",
    "   global ROI #get the blobal variable can't assign value here\n",
    "   ROI = 2.5 #local symbol table\n",
    "   print(ROI,id(ROI))\n",
    "\n",
    "calcme()\n",
    "print(ROI,id(ROI))\n",
    "\n",
    "##>>> help(sum) #print help document of function sum\n",
    "\n",
    "## Documentation Strings:\n",
    "def mul(a,b):\n",
    "    \"\"\"\n",
    "    This function return multiple 2 numbers a and b.\n",
    "    :param a: first number\n",
    "    :param b: second number\n",
    "    :return: c = a * b\n",
    "    \"\"\"\n",
    "    return (a*b)\n",
    "\n",
    "help(mul)\n",
    "print(mul.__doc__)\n",
    "\n",
    "## default Argument\n",
    "def emp_det(name,salary=0):\n",
    "    print(\"Name\",name,\"Salary\",salary)\n",
    "\n",
    "emp_det(\"soso\",300)    \n",
    "emp_det(\"soso\",salary=5000) \n",
    "emp_det(\"soso\") \n",
    "\n",
    "def student_details(name,std=12,marks, rollno=0):\n",
    "    print(name,std,marks,rollno)\n",
    "\n",
    "student_details(\"Juan\",12,89) #This return Error ((non-default argument follows default argument))\n",
    "\n",
    "## Arbitrary Arguments:\n",
    "def addMe(a,*args):\n",
    "    total = sum(args)\n",
    "    print(args,type(args))\n",
    "    print(total)\n",
    "    \n",
    "addMe(10,20,30,34)    \n",
    "addMe(10,22,33)  \n",
    "\n",
    "## Lambda Function: Anonymous function (without a name)\n",
    "add_lambda = lambda x,y: x+y\n",
    "print(add_lambda(12,14))\n",
    "students_marks = [44,66,77,88,99,33]\n",
    "marks = list(filter(lambda m:m>60,students_marks))#call function inseide other function\n",
    "print(marks)\n",
    "\n",
    "## Nested Functions\n",
    "emp_id=[122,123,125,124,128]\n",
    "\n",
    "def display_emp_details(id,name):\n",
    "    def check_emp_id(id):\n",
    "        if id in emp_id:\n",
    "            return True\n",
    "        else:\n",
    "            return False\n",
    "    if check_emp_id(id):\n",
    "        print(\"Name: {} Employee id:{}\".format(name,id))\n",
    "    else:\n",
    "        print(\"Wrong Details\")\n",
    "        \n",
    "display_emp_details(123,\"Soso Emp\")"
   ]
  },
  {
   "cell_type": "markdown",
   "metadata": {
    "collapsed": true
   },
   "source": [
    "## Built-in Functions"
   ]
  },
  {
   "cell_type": "code",
   "execution_count": 55,
   "metadata": {},
   "outputs": [
    {
     "name": "stdout",
     "output_type": "stream",
     "text": [
      "-----This is Python Course-----\n",
      "False\n",
      "This is Python Course\n",
      "['Java', 'Shell', 'C', 'C++', 'Python', 'Bash', 'Pascal']\n",
      "['Java', 'Shell', 'C', 'C++', 'Python', 'Bash', 'Pascal', 40, 30, 20, 35, 60]\n",
      "0.006250970892779151\n",
      "0.003619157104367332\n",
      "[1, 2, 3, 4] 1422793450312\n",
      "[1, 2, 3, 4] 1422793450312\n",
      "[1, 2, 3, 4] 1422793450312\n",
      "[1, 2, 3, 4] 1422793467784\n",
      "[[1, 3, 5], [2, 1111, 6]] 1422794564744 1422794589768 1422794212360\n",
      "[[1, 3, 5], [2, 1111, 6]] 1422794576584 1422794589768 1422794212360\n",
      "[[1, 3, 5], [2, 1111, 6]] 1422794564744 1422794589768 1422794212360\n",
      "[[1, 3, 5], [2, 1111, 6]] 1422793450312 1422794589896 1422794590408\n"
     ]
    }
   ],
   "source": [
    "## String Functions\n",
    "stm= \"This is Python Course\"\n",
    "print(stm.center(len(stm)+10,'-'))\n",
    "print(stm.isdecimal())\n",
    "stm.replace(\"Python\",\"Java\")\n",
    "print(stm) #Note no change on the root string this will create a copy and replace the string\n",
    "\n",
    "## List Functions\n",
    "courses = [\"Java\",\"C\",\"C++\",\"Python\"]\n",
    "courses.insert(10,\"Bash\") #if index not there add to the end\n",
    "courses.insert(1,\"Shell\")\n",
    "courses.append(\"Pascal\") #add the valur as it is to the list\n",
    "print(courses)\n",
    "duration = [40,30,20,35,60]\n",
    "courses.extend(duration) #add values as members in the list\n",
    "print(courses)\n",
    "\n",
    "## Mesaure Execution Time \n",
    "from timeit import timeit\n",
    "\n",
    "def while_test():\n",
    "    i,sum = 0,0\n",
    "    while i < 100:\n",
    "        sum = sum+i\n",
    "        i = i+1\n",
    "        \n",
    "def for_test():\n",
    "    sum = 0\n",
    "    for i in range(100):\n",
    "        sum = sum+i\n",
    "\n",
    "w= timeit(while_test,number=1000)  #test it for calling it 100 times default is 1000,000\n",
    "print(w) #execution time in second\n",
    "f= timeit(for_test,number=1000) \n",
    "print(f) #execution time in second\n",
    "\n",
    "## Deep Copy and shallow\n",
    "lst = [1,2,3,4]\n",
    "lst1 = lst # point to same address in memory\n",
    "print(lst,id(lst))\n",
    "print(lst1,id(lst1))\n",
    "\n",
    "lst1=lst.copy() #shallow copy here\n",
    "print(lst,id(lst))\n",
    "print(lst1,id(lst1))\n",
    "\n",
    "odd=[1,3,5]\n",
    "even=[2,4,6]\n",
    "lst=[odd,even] #Compound list\n",
    "lst1=lst.copy() #shallow copy here, not create a copy!!!!\n",
    "lst1[1][1]=1111 #changed in both lists\n",
    "print(lst,id(lst),id(lst[0]),id(lst[1]))\n",
    "print(lst1,id(lst1),id(lst1[0]),id(lst1[1]))\n",
    "\n",
    "import copy #to solve the above problem\n",
    "lst1 = copy.deepcopy(lst) #deep copy <<<<< for compound objects it works\n",
    "print(lst,id(lst),id(lst[0]),id(lst[1]))\n",
    "print(lst1,id(lst1),id(lst1[0]),id(lst1[1]))"
   ]
  },
  {
   "cell_type": "markdown",
   "metadata": {},
   "source": [
    "## Set and Dictionaries"
   ]
  },
  {
   "cell_type": "code",
   "execution_count": 86,
   "metadata": {},
   "outputs": [
    {
     "name": "stdout",
     "output_type": "stream",
     "text": [
      "{456, 234, 988, 222} <class 'set'>\n",
      "False\n",
      "456\n",
      "234\n",
      "988\n",
      "222\n",
      "{'Momo', 'Toto'}\n",
      "{1, 2, 3, 4, 5, 6, 7, 8, 9, 66, 10, 11}\n",
      "{1, 5, 6, 7, 8, 9}\n",
      "{2, 3, 4}\n",
      "{1, 66, 5, 6, 7, 8, 9, 10, 11}\n",
      "{123: 'Drinks', 234: 'Pen', 111: 'Laptop', 555: 'Mobile'} <class 'dict'>\n",
      "{1: 'Python', 2: 'Java', 3: 'C'}\n",
      "Laptop\n",
      "Drinks\n",
      "Pen\n",
      "Laptop\n",
      "Mobile\n",
      "123 : Drinks\n",
      "234 : Pen\n",
      "111 : Laptop\n",
      "555 : Mobile\n"
     ]
    }
   ],
   "source": [
    "## SET : unordered collection with no duplication\n",
    "empid = {234,222,456,988,234}\n",
    "print(empid,type(empid))\n",
    "#ERROR# print(empid[1:4]) #not support index\n",
    "print(234 not in empid) #True or False\n",
    "for i in empid:\n",
    "    print(i)\n",
    "emp_names = set({\"Soso\",\"Fofo\",\"Momo\"})\n",
    "emp_names.add(\"Toto\") #add to the end\n",
    "#help(emp_names.pop)\n",
    "emp_names.remove(\"Fofo\")\n",
    "emp_names.pop() #remove First element\n",
    "print(emp_names)\n",
    "\n",
    "set1={1,2,3,4,5,6,7,8,9}\n",
    "set2={10,11,2,3,4,66}\n",
    "print(set1 | set2) # Union in first OR second\n",
    "print(set1 - set2) # minus in first not in the second\n",
    "print(set1 & set2) # intersect in both\n",
    "print(set1 ^ set2) # NOt in both\n",
    "\n",
    "## Dictionary: set of key,value pairs, all keys unique, indexed by keys immutable type\n",
    "products = {123:\"Car\",234:\"Pen\",111:\"Laptop\",555:\"Mobile\",123:\"Drinks\"}\n",
    "print(products,type(products)) ##Overwrite similar keys with last one !!!!\n",
    "d1 = dict({1:\"Python\",2:\"Java\",3:\"C\"})\n",
    "print(d1)\n",
    "print(products[111])\n",
    "for k in products.keys():\n",
    "    print(products[k])\n",
    "for k,v in products.items():\n",
    "    print(k,\":\",v)"
   ]
  },
  {
   "cell_type": "markdown",
   "metadata": {},
   "source": [
    "## Modules"
   ]
  },
  {
   "cell_type": "code",
   "execution_count": 13,
   "metadata": {},
   "outputs": [
    {
     "name": "stdout",
     "output_type": "stream",
     "text": [
      "9\n",
      "['Java', 'C++', 'Python']\n",
      "['In', 'Out', '_', '__', '___', '__builtin__', '__builtins__', '__doc__', '__loader__', '__name__', '__package__', '__spec__', '_dh', '_i', '_i1', '_i10', '_i11', '_i12', '_i13', '_i2', '_i3', '_i4', '_i5', '_i6', '_i7', '_i8', '_i9', '_ih', '_ii', '_iii', '_oh', 'add', 'courses', 'dir_name', 'exit', 'get_ipython', 'lst', 'm', 'math', 'mul', 'my_module', 'quit', 'random']\n",
      "['ArithmeticError', 'AssertionError', 'AttributeError', 'BaseException', 'BlockingIOError', 'BrokenPipeError', 'BufferError', 'BytesWarning', 'ChildProcessError', 'ConnectionAbortedError', 'ConnectionError', 'ConnectionRefusedError', 'ConnectionResetError', 'DeprecationWarning', 'EOFError', 'Ellipsis', 'EnvironmentError', 'Exception', 'False', 'FileExistsError', 'FileNotFoundError', 'FloatingPointError', 'FutureWarning', 'GeneratorExit', 'IOError', 'ImportError', 'ImportWarning', 'IndentationError', 'IndexError', 'InterruptedError', 'IsADirectoryError', 'KeyError', 'KeyboardInterrupt', 'LookupError', 'MemoryError', 'ModuleNotFoundError', 'NameError', 'None', 'NotADirectoryError', 'NotImplemented', 'NotImplementedError', 'OSError', 'OverflowError', 'PendingDeprecationWarning', 'PermissionError', 'ProcessLookupError', 'RecursionError', 'ReferenceError', 'ResourceWarning', 'RuntimeError', 'RuntimeWarning', 'StopAsyncIteration', 'StopIteration', 'SyntaxError', 'SyntaxWarning', 'SystemError', 'SystemExit', 'TabError', 'TimeoutError', 'True', 'TypeError', 'UnboundLocalError', 'UnicodeDecodeError', 'UnicodeEncodeError', 'UnicodeError', 'UnicodeTranslateError', 'UnicodeWarning', 'UserWarning', 'ValueError', 'Warning', 'WindowsError', 'ZeroDivisionError', '__IPYTHON__', '__build_class__', '__debug__', '__doc__', '__import__', '__loader__', '__name__', '__package__', '__spec__', 'abs', 'all', 'any', 'ascii', 'bin', 'bool', 'bytearray', 'bytes', 'callable', 'chr', 'classmethod', 'compile', 'complex', 'copyright', 'credits', 'delattr', 'dict', 'dir', 'display', 'divmod', 'enumerate', 'eval', 'exec', 'filter', 'float', 'format', 'frozenset', 'get_ipython', 'getattr', 'globals', 'hasattr', 'hash', 'help', 'hex', 'id', 'input', 'int', 'isinstance', 'issubclass', 'iter', 'len', 'license', 'list', 'locals', 'map', 'max', 'memoryview', 'min', 'next', 'object', 'oct', 'open', 'ord', 'pow', 'print', 'property', 'range', 'repr', 'reversed', 'round', 'set', 'setattr', 'slice', 'sorted', 'staticmethod', 'str', 'sum', 'super', 'tuple', 'type', 'vars', 'zip']\n",
      "['__doc__', '__loader__', '__name__', '__package__', '__spec__', 'acos', 'acosh', 'asin', 'asinh', 'atan', 'atan2', 'atanh', 'ceil', 'copysign', 'cos', 'cosh', 'degrees', 'e', 'erf', 'erfc', 'exp', 'expm1', 'fabs', 'factorial', 'floor', 'fmod', 'frexp', 'fsum', 'gamma', 'gcd', 'hypot', 'inf', 'isclose', 'isfinite', 'isinf', 'isnan', 'ldexp', 'lgamma', 'log', 'log10', 'log1p', 'log2', 'modf', 'nan', 'pi', 'pow', 'radians', 'sin', 'sinh', 'sqrt', 'tan', 'tanh', 'tau', 'trunc']\n",
      "30\n",
      "D\n",
      "['B', 'A']\n"
     ]
    }
   ],
   "source": [
    "import my_module as m\n",
    "print(my_module.add(4,5))\n",
    "print(my_module.courses) ##Some times we should restart the notebook to work !!!!!!!!!\n",
    "dir_name = \"Just for me\"\n",
    "print(dir()) #print all objects in current and imported file, with properties of the module\n",
    "print(dir(__builtin__))\n",
    "\n",
    "import math,random\n",
    "print(dir(math))\n",
    "print(round(random.random()*100)) #random return value between 0 and 1\n",
    "\n",
    "lst = [\"A\",\"B\",\"C\",\"D\"]\n",
    "print(random.choice(lst)) #choice one value randomly\n",
    "print(random.choices(lst,k=2)) #return list with 2 value"
   ]
  },
  {
   "cell_type": "markdown",
   "metadata": {
    "collapsed": true
   },
   "source": [
    "## Packages"
   ]
  },
  {
   "cell_type": "code",
   "execution_count": 15,
   "metadata": {},
   "outputs": [
    {
     "name": "stdout",
     "output_type": "stream",
     "text": [
      "This {} is not available!! Shell\n"
     ]
    }
   ],
   "source": [
    "## It is a container for the modules, it is a directory containing python files\n",
    "import students_pkg.student_details as sd\n",
    "sd.enroll(\"Shell\")"
   ]
  },
  {
   "cell_type": "markdown",
   "metadata": {},
   "source": [
    "## Exception Handling"
   ]
  },
  {
   "cell_type": "code",
   "execution_count": null,
   "metadata": {
    "collapsed": true
   },
   "outputs": [],
   "source": []
  }
 ],
 "metadata": {
  "kernelspec": {
   "display_name": "Python 3",
   "language": "python",
   "name": "python3"
  },
  "language_info": {
   "codemirror_mode": {
    "name": "ipython",
    "version": 3
   },
   "file_extension": ".py",
   "mimetype": "text/x-python",
   "name": "python",
   "nbconvert_exporter": "python",
   "pygments_lexer": "ipython3",
   "version": "3.6.3"
  }
 },
 "nbformat": 4,
 "nbformat_minor": 2
}
