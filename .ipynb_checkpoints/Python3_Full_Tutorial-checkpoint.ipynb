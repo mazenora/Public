{
 "cells": [
  {
   "cell_type": "markdown",
   "metadata": {},
   "source": [
    "# Basic"
   ]
  },
  {
   "cell_type": "markdown",
   "metadata": {},
   "source": [
    "## Data Type"
   ]
  },
  {
   "cell_type": "code",
   "execution_count": 38,
   "metadata": {},
   "outputs": [
    {
     "name": "stdout",
     "output_type": "stream",
     "text": [
      "Soso <class 'str'>\n",
      "33 <class 'int'>\n",
      "Your name is: Soso  and age is: 33\n",
      "a= <class 'int'> b= <class 'float'> c= <class 'str'> d= <class 'bool'>\n"
     ]
    }
   ],
   "source": [
    "name = \"Soso\" #Class str ((Automatically))\n",
    "print(name,type(name))\n",
    "age = 33 #Class int\n",
    "print(age,type(age)) \n",
    "#addvar = age + name #>> return Error!!\n",
    "#print(addvar)\n",
    "print(\"Your name is:\",name,\" and age is:\",age)\n",
    "\n",
    "#multipule value creation:\n",
    "a, b, c, d = 33, 10.5, \"Python\", True\n",
    "print(\"a=\",type(a),\"b=\",type(b),\"c=\",type(c),\"d=\",type(d))\n",
    "\n",
    "#a,b=12\n",
    "#print(a,b) #>> return Error"
   ]
  },
  {
   "cell_type": "markdown",
   "metadata": {},
   "source": [
    "## Get Input From User"
   ]
  },
  {
   "cell_type": "code",
   "execution_count": 16,
   "metadata": {},
   "outputs": [
    {
     "name": "stdout",
     "output_type": "stream",
     "text": [
      "Enter Your Age: 33\n",
      "Your Age is: 33 Type is: <class 'int'>\n",
      "49.5\n",
      "Enter The Price: 1.2\n",
      "1.2 <class 'float'>\n"
     ]
    }
   ],
   "source": [
    "#in_age = input(\"Enter Your Age: \")\n",
    "#print(\"Your Age is:\",in_age,\"Type is:\",type(in_age)) #>> Input value Type is String!\n",
    "\n",
    "#>> If the Entered value is INT then cast it:\n",
    "int_age = int(input(\"Enter Your Age: \"))\n",
    "print(\"Your Age is:\",int_age,\"Type is:\",type(int_age)) #Input value Type is String!\n",
    "a = int_age * 1.5\n",
    "print(a)\n",
    "\n",
    "price = float(input(\"Enter The Price: \"))\n",
    "print(price,type(price))"
   ]
  },
  {
   "cell_type": "markdown",
   "metadata": {},
   "source": [
    "## Naming Variables"
   ]
  },
  {
   "cell_type": "code",
   "execution_count": 19,
   "metadata": {},
   "outputs": [
    {
     "ename": "SyntaxError",
     "evalue": "can't assign to operator (<ipython-input-19-e0afcf41095a>, line 6)",
     "output_type": "error",
     "traceback": [
      "\u001b[1;36m  File \u001b[1;32m\"<ipython-input-19-e0afcf41095a>\"\u001b[1;36m, line \u001b[1;32m6\u001b[0m\n\u001b[1;33m    abc-xz = 10\u001b[0m\n\u001b[1;37m               ^\u001b[0m\n\u001b[1;31mSyntaxError\u001b[0m\u001b[1;31m:\u001b[0m can't assign to operator\n"
     ]
    }
   ],
   "source": [
    "age = 22\n",
    "AGE = 23  \n",
    "print(age,AGE,type(age),type(AGE),id(age),id(AGE)) #different variables, id used to know the address of variable\n",
    "\n",
    "#>> No Special Characters\n",
    "#abc-xz = 10\n",
    "\n",
    "#>> No start with numbers\n",
    "#2name = \"soso\"\n",
    "\n"
   ]
  },
  {
   "cell_type": "markdown",
   "metadata": {},
   "source": [
    "## OPerators"
   ]
  },
  {
   "cell_type": "code",
   "execution_count": 27,
   "metadata": {},
   "outputs": [
    {
     "name": "stdout",
     "output_type": "stream",
     "text": [
      "2 <class 'int'>\n",
      "-2 <class 'int'>\n",
      "False\n",
      "46.0 <class 'float'>\n"
     ]
    }
   ],
   "source": [
    "a,b = 10,4\n",
    "c=a//b #return the int part only before the decimal 10/4=2.5 ==> return 2  only\n",
    "print(c,type(c))\n",
    "\n",
    "a,b = 10 ,-4\n",
    "c= a%b\n",
    "print(c,type(c))\n",
    "\n",
    "a,b = 10 ,4\n",
    "print(a == b)\n",
    "\n",
    "a,b = 10 ,4\n",
    "c = a**2/a + b * a - b \n",
    "print(c,type(c)) #>>Precedences: Brackets | parentheses, Of | (Exponents), Div, multi, add, subtraction"
   ]
  },
  {
   "cell_type": "markdown",
   "metadata": {},
   "source": [
    "## Modulusof Negative Numbers"
   ]
  },
  {
   "cell_type": "code",
   "execution_count": 31,
   "metadata": {},
   "outputs": [
    {
     "name": "stdout",
     "output_type": "stream",
     "text": [
      "-4\n",
      "1\n",
      "2\n"
     ]
    }
   ],
   "source": [
    "#remainder = a - floor(a/b) * b\n",
    "import math\n",
    "print(math.floor(-10/3))\n",
    "\n",
    "a,b = 10,3\n",
    "c = a%b\n",
    "print(c)  # c= 10 - floor(10/3) * 3 = 10 - 3 * 3 = 1\n",
    "\n",
    "a,b = -10,3\n",
    "c = a%b\n",
    "print(c)  # c= -10 - floor(-10/3) * 3 = -10 - (-4) * 3 = 2"
   ]
  },
  {
   "cell_type": "markdown",
   "metadata": {},
   "source": [
    "## Mutable and immutable Objects"
   ]
  },
  {
   "cell_type": "code",
   "execution_count": 36,
   "metadata": {},
   "outputs": [
    {
     "name": "stdout",
     "output_type": "stream",
     "text": [
      "10 <class 'int'> 1942774208\n",
      "This is Python <class 'str'> 1829215091696\n",
      "10 <class 'int'> 1942774208\n",
      "id of 10= 1942774208\n",
      "--------------------------------------\n",
      "[12, 3, 333, 465] <class 'list'> 1829215090696\n",
      "[12, 111, 333, 465, 'last'] <class 'list'> 1829215090696\n"
     ]
    }
   ],
   "source": [
    "#>> Mutable can be changed after creation: list, set, dict\n",
    "#>> Immutable can not be change after creation: int, float, str\n",
    "a = 10\n",
    "print(a,type(a), id(a))\n",
    "a= \"This is Python\"  #>> this will creat new memory location with new value\n",
    "print(a,type(a),id(a))\n",
    "b = 10\n",
    "print(b,type(b), id(b)) #this will point to old location of a while it is the same value.\n",
    "print(\"id of 10=\",id(10)) #to make sure that it is same location based on value\n",
    "print(\"--------------------------------------\")\n",
    "## List as Mutable\n",
    "lst = [12,3,333,465]\n",
    "print(lst,type(lst),id(lst))\n",
    "lst[1] = 111\n",
    "lst.append(\"last\")\n",
    "print(lst,type(lst),id(lst))"
   ]
  },
  {
   "cell_type": "code",
   "execution_count": 39,
   "metadata": {},
   "outputs": [
    {
     "name": "stdout",
     "output_type": "stream",
     "text": [
      "-10.1\n"
     ]
    }
   ],
   "source": [
    "a,b = -10.10, -10.101\n",
    "\n",
    "c  = a%b\n",
    "\n",
    "print(c)"
   ]
  },
  {
   "cell_type": "markdown",
   "metadata": {},
   "source": [
    "## Conditional Statement"
   ]
  },
  {
   "cell_type": "code",
   "execution_count": 12,
   "metadata": {},
   "outputs": [
    {
     "name": "stdout",
     "output_type": "stream",
     "text": [
      "Enter a Number: 5\n",
      "Positive\n",
      "Soso here\n",
      "Young\n",
      "Young\n",
      "Not RGB\n"
     ]
    }
   ],
   "source": [
    "a = int(input(\"Enter a Number: \"))\n",
    "if a == 0:\n",
    "  print(\"Yes Zero\")\n",
    "elif a < 0:\n",
    "    print(\"Negative\")\n",
    "else:\n",
    "    print(\"Positive\")\n",
    "\n",
    "## Membership Operator\n",
    "stm = \"Hello Soso Welcome\"\n",
    "if \"Soso\" not in stm:\n",
    "    print(\"Soso not Here\")\n",
    "else:\n",
    "    print(\"Soso here\")\n",
    "\n",
    "## Logical Operators:\n",
    "if a>=18 and a<100:\n",
    "    print(\"Adult\")\n",
    "else:\n",
    "    print(\"Young\")\n",
    "\n",
    "if 100>a>=18:\n",
    "    print(\"Adult\")\n",
    "else:\n",
    "    print(\"Young\")\n",
    "    \n",
    "color=\"Yellow\"\n",
    "if color==\"Red\" or color==\"Green\" or color==\"blue\":\n",
    "    print(\"RGB\")\n",
    "elif not(color==\"Red\" or color==\"Green\" or color==\"blue\"):\n",
    "    print(\"Not RGB\")"
   ]
  },
  {
   "cell_type": "markdown",
   "metadata": {},
   "source": [
    "## String Manipulation"
   ]
  },
  {
   "cell_type": "code",
   "execution_count": 45,
   "metadata": {},
   "outputs": [
    {
     "name": "stdout",
     "output_type": "stream",
     "text": [
      "Python Programming \"Here\" <class 'str'>\n",
      "Python Programming \"Here\" Python Programming Here Python Programming \"Here\" Python \t Programming. \n",
      " Hello Here c:\\soso\\tool\\new \n",
      "Hi\n",
      "welcome what is \n",
      "    your life doing\n",
      "    nice   bye\n",
      "\n",
      "T\n",
      "e\n",
      "r\n",
      "Thi\n",
      " course\n",
      ",,,,,,,\n",
      ",2,3,4,5,6,7,8,9\n",
      "1,2,3\n",
      "1,2,3,4,5,6,7,8,9\n",
      "123456789\n",
      "\n",
      "9,8,7,6,5\n",
      "987654321\n",
      "True\n",
      "97\n",
      "@\n"
     ]
    }
   ],
   "source": [
    "stm1 = 'Python Programming \"Here\"' \n",
    "stm2 = \"Python Programming Here\"\n",
    "stm3 = \"Python Programming \\\"Here\\\"\"\n",
    "stm4 = \"Python \\t Programming. \\n Hello Here\"\n",
    "stm5 = r\"c:\\soso\\tool\\new\"\n",
    "stm6=\"\"\"\n",
    "Hi\n",
    "welcome what is \n",
    "    your life doing\n",
    "    nice   bye\n",
    "\"\"\"\n",
    "print(stm1,type(stm1))\n",
    "print(stm1,stm2,stm3,stm4,stm5,stm6)\n",
    "print(\"Python\"*10) #print string 10 times\n",
    "\n",
    "## Indexing:\n",
    "stm = \"This is my course\"\n",
    "print(stm[0]) #return exception if number out of range\n",
    "print(stm[len(stm)-1])\n",
    "print(stm[-3]) \n",
    "\n",
    "## Slicing\n",
    "stm = \"This is my course\"\n",
    "print(stm[0:3]) #exclude the 3th char \n",
    "print(stm[10:100]) #no exception \n",
    "stm=\"1,2,3,4,5,6,7,8,9\"\n",
    "print(stm[1:15:2]) #Setp=2 jump 2 char\n",
    "print(stm[1:])\n",
    "print(stm[:5])\n",
    "print(stm[:])\n",
    "print(stm[::2]) #>>123456789\n",
    "print(stm[-1:-10]) #No Output\n",
    "print(stm[-1:-10:-1]) #Step from right side >>> 9,8,7,6,5\n",
    "print(stm[-1::-2]) #start from end with 2 step from right to left  <<< 987654321\n",
    "\n",
    "## Comapre\n",
    "stm1 = \"Py\"\n",
    "stm2 = \"Java\"\n",
    "print(stm1 > stm2)  #True >>> comapre ascii value of first char \n",
    "print(ord('a')) # ascii value of char\n",
    "print(chr(64)) # return the char from ascii\n",
    "\n",
    "stm = \"1,2,3,4,5,6,7,8,9\"\n",
    "stm[2] = 22\n",
    "print(stm[::2]) #Return Error can't change String variable immutable"
   ]
  },
  {
   "cell_type": "markdown",
   "metadata": {},
   "source": [
    "## List"
   ]
  },
  {
   "cell_type": "code",
   "execution_count": 67,
   "metadata": {},
   "outputs": [
    {
     "name": "stdout",
     "output_type": "stream",
     "text": [
      "[1, 2, 3, 'soso', 'momo'] <class 'list'>\n",
      "[400, 3]\n",
      "6\n",
      "[[1, 3, 5, 7, 9], [2, 4, 6, 8]]\n",
      "3\n",
      "(12, 34, 55, 8) <class 'tuple'>\n",
      "34\n",
      "['__add__', '__class__', '__contains__', '__delattr__', '__dir__', '__doc__', '__eq__', '__format__', '__ge__', '__getattribute__', '__getitem__', '__getnewargs__', '__gt__', '__hash__', '__init__', '__init_subclass__', '__iter__', '__le__', '__len__', '__lt__', '__mul__', '__ne__', '__new__', '__reduce__', '__reduce_ex__', '__repr__', '__rmul__', '__setattr__', '__sizeof__', '__str__', '__subclasshook__', 'count', 'index']\n",
      "(12,) <class 'tuple'>\n"
     ]
    }
   ],
   "source": [
    "## List mutable\n",
    "lst1 = list([12,3,4,8])\n",
    "lst = [1,2,3,\"soso\",\"momo\"]\n",
    "print(lst,type(lst))\n",
    "#print(lst[10]) #return Error out of range\n",
    "lst[1] = 400\n",
    "print(lst[1:3])\n",
    "lst.append(33)\n",
    "print(len(lst))\n",
    "odd = [1,3,5,7,9]\n",
    "even = [2,4,6,8]\n",
    "numbers = [odd,even]\n",
    "print(numbers)\n",
    "print(numbers[0][1])\n",
    "\n",
    "## Tuple (immutable)\n",
    "t = 12,34,55,8 # OR t = (12,34,55,8)\n",
    "print(t,type(t))\n",
    "print(t[1])\n",
    "print(dir(t)) #print all functions supported by tuple\n",
    "t= (12,)\n",
    "print(t,type(t))"
   ]
  },
  {
   "cell_type": "markdown",
   "metadata": {},
   "source": [
    "## Loops"
   ]
  },
  {
   "cell_type": "code",
   "execution_count": 102,
   "metadata": {},
   "outputs": [
    {
     "name": "stdout",
     "output_type": "stream",
     "text": [
      "i= 1\n",
      "i= 2\n",
      "i= 3\n",
      "i= 4\n",
      "i= 5\n",
      "i= 6\n",
      "i= 7\n",
      "i= 8\n",
      "i= 9\n",
      "1 2 3 4 **********\n",
      "1 2 3 4 6 7 8 9 P y t h o n 1 2 3 4 5 6 ------------\n",
      "1 2 3 4 5 6 7 8 9 Loop done\n",
      "0 1 2 3 4 5 6 7 8 9 Assign Other task,loop done\n",
      "10 15 10 9 8 7 6 5 4 3 2 1 12\n",
      "34\n",
      "123\n",
      "34\n",
      "Third\n",
      "Second\n",
      "First\n",
      "Third\n",
      "Second\n",
      "First\n",
      "First\n",
      "0\n",
      "Second\n",
      "1\n",
      "Third\n",
      "2\n",
      "No: 10 course First\n",
      "No: 20 course Second\n",
      "No: 30 course Third\n"
     ]
    }
   ],
   "source": [
    "i = 1\n",
    "while i<10:\n",
    "    print(\"i=\",i)\n",
    "    i=i+1\n",
    "\n",
    "\n",
    "while i<10:\n",
    "    pass #means do nothing, you should add something here in future\n",
    "    print(\"passed....\")\n",
    "\n",
    "i= 1\n",
    "while i<10:\n",
    "    if i%5==0:\n",
    "        break  #break the loop\n",
    "    print(i,end=\" \")\n",
    "    i = i + 1\n",
    "print(\"*\"*10)\n",
    "i= 0\n",
    "while i<10:\n",
    "    i = i + 1\n",
    "    if i%5==0:\n",
    "        continue  #skip this no 5\n",
    "    print(i,end=\" \")\n",
    "\n",
    "## For\n",
    "lst = [1,2,3,4,5,6]\n",
    "for i in \"Python\":\n",
    "    print(i,end=\" \")\n",
    "for i in lst:   \n",
    "    print(i,end=\" \")\n",
    "    \n",
    "## Else Block\n",
    "print(\"------------\")\n",
    "i=1\n",
    "while i<10:\n",
    "    print(i,end=\" \")\n",
    "    #if i%11 == 0:\n",
    "    #    break\n",
    "    i = i + 1\n",
    "else:\n",
    "    print(\"Loop done\")\n",
    "\n",
    "\n",
    "for i in range(10):\n",
    "    print(i,end=\" \")\n",
    "    #if i%5==0:\n",
    "    #    break\n",
    "else:\n",
    "    print(\"Assign Other task,loop done\")\n",
    "\n",
    "## Range\n",
    "for i in range(10,20,5):  #20 not included, 5 step\n",
    "    print(i,end=\" \")\n",
    "for i in range(10,0,-1):  #20 not included, 5 step\n",
    "    print(i,end=\" \")  \n",
    "lst =[12,34,123,34]\n",
    "for i in range(len(lst)):\n",
    "    print(lst[i])\n",
    "    \n",
    "## Looping Techniques\n",
    "lst = [\"First\",\"Second\",\"Third\"]\n",
    "lst1=[10,20,30,40]\n",
    "for c in reversed(lst):\n",
    "    print(c)\n",
    "for c in sorted(lst, reverse=True):\n",
    "    print(c)  \n",
    "for index,c in enumerate(lst):\n",
    "    print(c)   #return elements with index value\n",
    "    print(index)\n",
    "for d,c in zip(lst1,lst): #get similar number of elements more or less lists\n",
    "    print(\"No:\",d,\"course\",c)"
   ]
  },
  {
   "cell_type": "markdown",
   "metadata": {},
   "source": [
    "## Functions"
   ]
  },
  {
   "cell_type": "code",
   "execution_count": 129,
   "metadata": {},
   "outputs": [
    {
     "name": "stdout",
     "output_type": "stream",
     "text": [
      "40\n",
      "2.5 2743536411248\n",
      "2.5 2743536411248\n",
      "Help on function mul in module __main__:\n",
      "\n",
      "mul(a, b)\n",
      "    This function return multiple 2 numbers a and b.\n",
      "    :param a: first number\n",
      "    :param b: second number\n",
      "    :return: c = a * b\n",
      "\n",
      "\n",
      "    This function return multiple 2 numbers a and b.\n",
      "    :param a: first number\n",
      "    :param b: second number\n",
      "    :return: c = a * b\n",
      "    \n",
      "Name soso Salary 300\n",
      "Name soso Salary 5000\n",
      "Name soso Salary 0\n"
     ]
    },
    {
     "ename": "TypeError",
     "evalue": "'int' object is not callable",
     "output_type": "error",
     "traceback": [
      "\u001b[1;31m---------------------------------------------------------------------------\u001b[0m",
      "\u001b[1;31mTypeError\u001b[0m                                 Traceback (most recent call last)",
      "\u001b[1;32m<ipython-input-129-7fd5eae14bed>\u001b[0m in \u001b[0;36m<module>\u001b[1;34m()\u001b[0m\n\u001b[0;32m     41\u001b[0m     \u001b[0mprint\u001b[0m\u001b[1;33m(\u001b[0m\u001b[0mtotal\u001b[0m\u001b[1;33m)\u001b[0m\u001b[1;33m\u001b[0m\u001b[0m\n\u001b[0;32m     42\u001b[0m \u001b[1;33m\u001b[0m\u001b[0m\n\u001b[1;32m---> 43\u001b[1;33m \u001b[0maddMe\u001b[0m\u001b[1;33m(\u001b[0m\u001b[1;36m10\u001b[0m\u001b[1;33m,\u001b[0m\u001b[1;36m20\u001b[0m\u001b[1;33m,\u001b[0m\u001b[1;36m30\u001b[0m\u001b[1;33m,\u001b[0m\u001b[1;36m34\u001b[0m\u001b[1;33m)\u001b[0m\u001b[1;33m\u001b[0m\u001b[0m\n\u001b[0m",
      "\u001b[1;32m<ipython-input-129-7fd5eae14bed>\u001b[0m in \u001b[0;36maddMe\u001b[1;34m(a, *args)\u001b[0m\n\u001b[0;32m     37\u001b[0m \u001b[1;31m## Arbitrary Arguments:\u001b[0m\u001b[1;33m\u001b[0m\u001b[1;33m\u001b[0m\u001b[0m\n\u001b[0;32m     38\u001b[0m \u001b[1;32mdef\u001b[0m \u001b[0maddMe\u001b[0m\u001b[1;33m(\u001b[0m\u001b[0ma\u001b[0m\u001b[1;33m,\u001b[0m\u001b[1;33m*\u001b[0m\u001b[0margs\u001b[0m\u001b[1;33m)\u001b[0m\u001b[1;33m:\u001b[0m\u001b[1;33m\u001b[0m\u001b[0m\n\u001b[1;32m---> 39\u001b[1;33m     \u001b[0mtotal\u001b[0m \u001b[1;33m=\u001b[0m \u001b[0msum\u001b[0m\u001b[1;33m(\u001b[0m\u001b[0margs\u001b[0m\u001b[1;33m)\u001b[0m\u001b[1;33m\u001b[0m\u001b[0m\n\u001b[0m\u001b[0;32m     40\u001b[0m     \u001b[0mprint\u001b[0m\u001b[1;33m(\u001b[0m\u001b[0margs\u001b[0m\u001b[1;33m,\u001b[0m\u001b[0mtype\u001b[0m\u001b[1;33m(\u001b[0m\u001b[0margs\u001b[0m\u001b[1;33m)\u001b[0m\u001b[1;33m)\u001b[0m\u001b[1;33m\u001b[0m\u001b[0m\n\u001b[0;32m     41\u001b[0m     \u001b[0mprint\u001b[0m\u001b[1;33m(\u001b[0m\u001b[0mtotal\u001b[0m\u001b[1;33m)\u001b[0m\u001b[1;33m\u001b[0m\u001b[0m\n",
      "\u001b[1;31mTypeError\u001b[0m: 'int' object is not callable"
     ]
    }
   ],
   "source": [
    "def add(a,b):\n",
    "    return a+b\n",
    "print(add(10,30))\n",
    "\n",
    "ROI = 11.5  #Global symbol table\n",
    "def calcme():\n",
    "   global ROI #get the blobal variable can't assign value here\n",
    "   ROI = 2.5 #local symbol table\n",
    "   print(ROI,id(ROI))\n",
    "\n",
    "calcme()\n",
    "print(ROI,id(ROI))\n",
    "\n",
    "##>>> help(sum) #print help document of function sum\n",
    "\n",
    "## Documentation Strings:\n",
    "def mul(a,b):\n",
    "    \"\"\"\n",
    "    This function return multiple 2 numbers a and b.\n",
    "    :param a: first number\n",
    "    :param b: second number\n",
    "    :return: c = a * b\n",
    "    \"\"\"\n",
    "    return (a*b)\n",
    "\n",
    "help(mul)\n",
    "print(mul.__doc__)\n",
    "\n",
    "## default Argument\n",
    "def emp_det(name,salary=0):\n",
    "    print(\"Name\",name,\"Salary\",salary)\n",
    "\n",
    "emp_det(\"soso\",300)    \n",
    "emp_det(\"soso\",salary=5000) \n",
    "emp_det(\"soso\") \n",
    "\n",
    "## Arbitrary Arguments:\n",
    "def addMe(a,*args):\n",
    "    total = sum(args)\n",
    "    print(args,type(args))\n",
    "    print(total)\n",
    "    \n",
    "addMe(10,20,30,34)    "
   ]
  },
  {
   "cell_type": "code",
   "execution_count": null,
   "metadata": {
    "collapsed": true
   },
   "outputs": [],
   "source": []
  }
 ],
 "metadata": {
  "kernelspec": {
   "display_name": "Python 3",
   "language": "python",
   "name": "python3"
  },
  "language_info": {
   "codemirror_mode": {
    "name": "ipython",
    "version": 3
   },
   "file_extension": ".py",
   "mimetype": "text/x-python",
   "name": "python",
   "nbconvert_exporter": "python",
   "pygments_lexer": "ipython3",
   "version": "3.6.3"
  }
 },
 "nbformat": 4,
 "nbformat_minor": 2
}
